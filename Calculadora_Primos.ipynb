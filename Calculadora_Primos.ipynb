{
  "cells": [
    {
      "cell_type": "markdown",
      "metadata": {
        "id": "view-in-github",
        "colab_type": "text"
      },
      "source": [
        "<a href=\"https://colab.research.google.com/github/VictorCamposSilva/Git-e-Github/blob/main/Calculadora_Primos.ipynb\" target=\"_parent\"><img src=\"https://colab.research.google.com/assets/colab-badge.svg\" alt=\"Open In Colab\"/></a>"
      ]
    },
    {
      "cell_type": "code",
      "execution_count": null,
      "metadata": {
        "id": "SONZ9aNQnVNH"
      },
      "outputs": [],
      "source": [
        "#Calculadora de números primos. Leia um número e diga se ele é ou não um número primo.\n",
        "num = int(input('Digite um número: '))\n",
        "tot = 0\n",
        "for c in range(1, num + 1):\n",
        "  if num % c == 0:\n",
        "    print('\\033[34m', end = ' ')\n",
        "    tot += 1\n",
        "  else:\n",
        "    print('\\033[31m', end = ' ')\n",
        "    print('{}'.format (c), end = ' ')\n",
        "print('\\n\\033[mO número {} foi divisível {} vezes'.format(num, tot))\n",
        "if tot == 2:\n",
        "  print('E por isso ele é PRIMO!')\n",
        "else:\n",
        "  print('E por isso ele NÃO É PRIMO!')"
      ]
    },
    {
      "cell_type": "markdown",
      "source": [
        "# Nova seção"
      ],
      "metadata": {
        "id": "qvwv0t0leeP6"
      }
    }
  ],
  "metadata": {
    "colab": {
      "provenance": [],
      "authorship_tag": "ABX9TyMRm2H9nW/a7VYNFRergw2j",
      "include_colab_link": true
    },
    "kernelspec": {
      "display_name": "Python 3",
      "name": "python3"
    },
    "language_info": {
      "name": "python"
    }
  },
  "nbformat": 4,
  "nbformat_minor": 0
}